{
 "cells": [
  {
   "cell_type": "code",
   "execution_count": 1,
   "metadata": {},
   "outputs": [],
   "source": [
    "#set n=8\n",
    "n=8\n",
    "#define the intersection of two lists\n",
    "def inters(a,b):\n",
    "    return set.intersection(set(a),set(b))"
   ]
  },
  {
   "cell_type": "code",
   "execution_count": 2,
   "metadata": {},
   "outputs": [],
   "source": [
    "#give the minimum number of 4-sets (elements in {[8] choose 4}) in a saturated B4-free system containing X and Y, \n",
    "#where X is a subset of {[8] choose 4} and Y is a subset of {[8] choose 3}\n",
    "\n",
    "def NrOfSets(n,X,Y):\n",
    "    V=[]\n",
    "    for i in Combinations(range(1,n+1),4):\n",
    "        Ok=True;\n",
    "        for x in X:\n",
    "            if len(inters(i,x)) in [1,4]:\n",
    "                Ok=False\n",
    "                break\n",
    "        for y in Y:\n",
    "            if len(inters(i,y))==1:\n",
    "                Ok=False\n",
    "                break\n",
    "        if Ok:\n",
    "            V.append(i)\n",
    "    g=Graph()\n",
    "    for i in range(len(V)):\n",
    "        g.add_vertex(i)\n",
    "    for i,j in Combinations(range(len(V)),2):\n",
    "        if len(inters(V[i],V[j]))==1:\n",
    "            g.add_edge((i,j))   \n",
    "    return(len(g.dominating_set(independent=True))+len(X))"
   ]
  },
  {
   "cell_type": "code",
   "execution_count": 5,
   "metadata": {},
   "outputs": [
    {
     "name": "stdout",
     "output_type": "stream",
     "text": [
      "8\n"
     ]
    }
   ],
   "source": [
    "X=[[1,2,3,4],[1,2,5,6],[1,2,7,8]];\n",
    "Y=[];\n",
    "print(NrOfSets(n,X,Y))"
   ]
  },
  {
   "cell_type": "code",
   "execution_count": 6,
   "metadata": {},
   "outputs": [
    {
     "name": "stdout",
     "output_type": "stream",
     "text": [
      "10\n",
      "8\n",
      "14\n",
      "14\n"
     ]
    }
   ],
   "source": [
    "X= [[1,2,3,4],[1,2,5,6],[1,2,7,8],[1,3,5,7]];\n",
    "for Y in [[],[[1,2,3]],[[1,2,3],[1,2,5]],[[1,2,3],[1,2,5],[1,2,7]]]:\n",
    "    print(NrOfSets(n,X,Y))"
   ]
  },
  {
   "cell_type": "code",
   "execution_count": null,
   "metadata": {},
   "outputs": [],
   "source": []
  },
  {
   "cell_type": "code",
   "execution_count": null,
   "metadata": {},
   "outputs": [],
   "source": []
  },
  {
   "cell_type": "code",
   "execution_count": null,
   "metadata": {},
   "outputs": [],
   "source": []
  },
  {
   "cell_type": "code",
   "execution_count": null,
   "metadata": {},
   "outputs": [],
   "source": []
  },
  {
   "cell_type": "code",
   "execution_count": null,
   "metadata": {},
   "outputs": [],
   "source": []
  },
  {
   "cell_type": "code",
   "execution_count": null,
   "metadata": {},
   "outputs": [],
   "source": []
  },
  {
   "cell_type": "code",
   "execution_count": null,
   "metadata": {},
   "outputs": [],
   "source": []
  },
  {
   "cell_type": "code",
   "execution_count": null,
   "metadata": {},
   "outputs": [],
   "source": []
  },
  {
   "cell_type": "code",
   "execution_count": null,
   "metadata": {},
   "outputs": [],
   "source": []
  },
  {
   "cell_type": "code",
   "execution_count": null,
   "metadata": {},
   "outputs": [],
   "source": []
  },
  {
   "cell_type": "code",
   "execution_count": null,
   "metadata": {},
   "outputs": [],
   "source": []
  }
 ],
 "metadata": {
  "kernelspec": {
   "display_name": "SageMath 9.3",
   "language": "sage",
   "name": "sagemath"
  },
  "language_info": {
   "codemirror_mode": {
    "name": "ipython",
    "version": 3
   },
   "file_extension": ".py",
   "mimetype": "text/x-python",
   "name": "python",
   "nbconvert_exporter": "python",
   "pygments_lexer": "ipython3",
   "version": "3.7.10"
  }
 },
 "nbformat": 4,
 "nbformat_minor": 4
}
