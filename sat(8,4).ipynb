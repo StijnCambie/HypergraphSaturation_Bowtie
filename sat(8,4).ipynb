{
 "cells": [
  {
   "cell_type": "code",
   "execution_count": 42,
   "metadata": {},
   "outputs": [],
   "source": [
    "#function that computes the intersection of two sets\n",
    "def inters(a,b):\n",
    "    return set.intersection(set(a),set(b))\n",
    "\n",
    "#function tht generates the Johnson graph J(n,k,1)\n",
    "def J(n,k):\n",
    "    V=Combinations(range(1,n+1),k);\n",
    "    g=Graph()\n",
    "    for i in range(len(V)):\n",
    "        g.add_vertex(i)\n",
    "    for i,j in Combinations(range(len(V)),2):\n",
    "        if len(inters(V[i],V[j]))==1:\n",
    "            g.add_edge((i,j))\n",
    "    return(g)"
   ]
  },
  {
   "cell_type": "code",
   "execution_count": 38,
   "metadata": {},
   "outputs": [
    {
     "name": "stdout",
     "output_type": "stream",
     "text": [
      "70\n",
      "560\n",
      "7\n",
      "8\n"
     ]
    }
   ],
   "source": [
    "#compute the list of maximal independent sets of J(8,4,1) and compute the minimum size of one [ssat and sat]\n",
    "from sage.graphs.independent_sets import IndependentSets\n",
    "k=4\n",
    "n=8\n",
    "g=J(n,k).copy()\n",
    "print(g.order())\n",
    "print(g.size())\n",
    "I = list(IndependentSets(g, maximal=True))\n",
    "print(g.dominating_set(value_only=True))\n",
    "print(g.dominating_set(value_only=True, independent=True))"
   ]
  },
  {
   "cell_type": "code",
   "execution_count": 40,
   "metadata": {},
   "outputs": [
    {
     "name": "stdout",
     "output_type": "stream",
     "text": [
      "8\n",
      "420\n"
     ]
    }
   ],
   "source": [
    "#check smallest independent set (sanity check) and number of them\n",
    "J=[]\n",
    "for i in I:\n",
    "    if len(i)<=n:\n",
    "        J.append(len(i))\n",
    "print(min(J))\n",
    "print(len(J))\n"
   ]
  },
  {
   "cell_type": "code",
   "execution_count": 43,
   "metadata": {},
   "outputs": [
    {
     "name": "stdout",
     "output_type": "stream",
     "text": [
      "7\n",
      "7\n",
      "30\n",
      "7\n"
     ]
    }
   ],
   "source": [
    "#compute the list of maximal independent sets of J(7,4,1) and compute the minimum size of one (also as sanity check)\n",
    "from sage.graphs.independent_sets import IndependentSets\n",
    "k=4\n",
    "n=7\n",
    "g=J(n,k).copy()\n",
    "# print(g.order())\n",
    "# print(g.size())\n",
    "I = list(IndependentSets(g, maximal=True))\n",
    "print(g.dominating_set(value_only=True))\n",
    "print(g.dominating_set(value_only=True, independent=True))\n",
    "J=[]\n",
    "for i in I:\n",
    "    if len(i)<=n:\n",
    "        J.append(len(i))\n",
    "print(len(J))\n",
    "print(min(J))\n"
   ]
  },
  {
   "cell_type": "code",
   "execution_count": 30,
   "metadata": {},
   "outputs": [],
   "source": []
  },
  {
   "cell_type": "code",
   "execution_count": null,
   "metadata": {},
   "outputs": [],
   "source": []
  },
  {
   "cell_type": "code",
   "execution_count": null,
   "metadata": {},
   "outputs": [],
   "source": []
  },
  {
   "cell_type": "code",
   "execution_count": null,
   "metadata": {},
   "outputs": [],
   "source": []
  },
  {
   "cell_type": "code",
   "execution_count": null,
   "metadata": {},
   "outputs": [],
   "source": []
  },
  {
   "cell_type": "code",
   "execution_count": null,
   "metadata": {},
   "outputs": [],
   "source": []
  },
  {
   "cell_type": "code",
   "execution_count": null,
   "metadata": {},
   "outputs": [],
   "source": []
  },
  {
   "cell_type": "code",
   "execution_count": null,
   "metadata": {},
   "outputs": [],
   "source": []
  },
  {
   "cell_type": "code",
   "execution_count": null,
   "metadata": {},
   "outputs": [],
   "source": []
  },
  {
   "cell_type": "code",
   "execution_count": null,
   "metadata": {},
   "outputs": [],
   "source": []
  },
  {
   "cell_type": "code",
   "execution_count": null,
   "metadata": {},
   "outputs": [],
   "source": []
  }
 ],
 "metadata": {
  "kernelspec": {
   "display_name": "SageMath 9.3",
   "language": "sage",
   "name": "sagemath"
  },
  "language_info": {
   "codemirror_mode": {
    "name": "ipython",
    "version": 3
   },
   "file_extension": ".py",
   "mimetype": "text/x-python",
   "name": "python",
   "nbconvert_exporter": "python",
   "pygments_lexer": "ipython3",
   "version": "3.7.10"
  }
 },
 "nbformat": 4,
 "nbformat_minor": 4
}
