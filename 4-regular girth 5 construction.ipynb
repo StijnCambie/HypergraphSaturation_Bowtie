{
 "cells": [
  {
   "cell_type": "code",
   "execution_count": 7,
   "metadata": {},
   "outputs": [],
   "source": [
    "#we define the graph power of a graph\n",
    "from sage.graphs.graph import Graph\n",
    "\n",
    "def GraphPow(G,k):\n",
    "    h = Graph()\n",
    "    for v in G.vertices():\n",
    "        for u in G.vertices():\n",
    "            if v != u and G.distance(v, u) <= k:\n",
    "                h.add_edge(v, u)\n",
    "\n",
    "    # Displaying the result\n",
    "    return h\n",
    "\n"
   ]
  },
  {
   "cell_type": "code",
   "execution_count": 8,
   "metadata": {},
   "outputs": [],
   "source": [
    "#we generate a list of 4 candidates of graphs taken from https://houseofgraphs.org/graphs of 4-regular girth 5 graphs \n",
    "L=[]\n",
    "SS=[\"Ss_??@CCgRC_B?D?@O_aGO_d@@`CQ@Ac?\", \"Xs_?????GA?O@?P_CKH?SHC?OW?OKI@C?PC@OD??SOO@g?ACgC?\",\n",
    "    \"]s_??GA@?C?_?_@??O????????AB?`?B_GKOCCcA?HOG?W_ACH?CAQ?CH?_@@_O?CH@??HAG??\",\"Xs_?GG??G??L?eA?G@@?`CGXC@AC??__C`@AGG@?WOA@GOAC`C?\",\n",
    "   ];\n",
    "for ss in SS:\n",
    "    from sage.graphs.graph_input import from_graph6\n",
    "    H = Graph();\n",
    "    n=H.order();\n",
    "    from_graph6(H,ss)\n",
    "    L.append(H)"
   ]
  },
  {
   "cell_type": "code",
   "execution_count": 9,
   "metadata": {},
   "outputs": [
    {
     "name": "stdout",
     "output_type": "stream",
     "text": [
      "20\n",
      "4\n",
      "25\n",
      "5\n",
      "30\n",
      "6\n",
      "25\n",
      "3\n"
     ]
    }
   ],
   "source": [
    "#we check those and conclude that 3 of them have a set of n/5 vertices which are pairwise at distance at least 3\n",
    "for g in L:\n",
    "    print(g.order())\n",
    "    print(len(GraphPow(g,2).independent_set()))"
   ]
  },
  {
   "cell_type": "code",
   "execution_count": null,
   "metadata": {},
   "outputs": [],
   "source": []
  },
  {
   "cell_type": "code",
   "execution_count": null,
   "metadata": {},
   "outputs": [],
   "source": []
  },
  {
   "cell_type": "code",
   "execution_count": null,
   "metadata": {},
   "outputs": [],
   "source": []
  },
  {
   "cell_type": "code",
   "execution_count": null,
   "metadata": {},
   "outputs": [],
   "source": []
  },
  {
   "cell_type": "code",
   "execution_count": null,
   "metadata": {},
   "outputs": [],
   "source": []
  },
  {
   "cell_type": "code",
   "execution_count": null,
   "metadata": {},
   "outputs": [],
   "source": []
  }
 ],
 "metadata": {
  "kernelspec": {
   "display_name": "SageMath 9.3",
   "language": "sage",
   "name": "sagemath"
  },
  "language_info": {
   "codemirror_mode": {
    "name": "ipython",
    "version": 3
   },
   "file_extension": ".py",
   "mimetype": "text/x-python",
   "name": "python",
   "nbconvert_exporter": "python",
   "pygments_lexer": "ipython3",
   "version": "3.7.10"
  }
 },
 "nbformat": 4,
 "nbformat_minor": 4
}
