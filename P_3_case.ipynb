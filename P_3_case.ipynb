{
 "cells": [
  {
   "cell_type": "code",
   "execution_count": 9,
   "metadata": {},
   "outputs": [
    {
     "data": {
      "text/plain": [
       "[[1, 3, 4],\n",
       " [1, 3, 5],\n",
       " [1, 3, 6],\n",
       " [1, 4, 5],\n",
       " [1, 4, 6],\n",
       " [2, 3, 4],\n",
       " [2, 3, 5],\n",
       " [2, 3, 6],\n",
       " [2, 4, 5],\n",
       " [2, 4, 6],\n",
       " [3, 4, 5],\n",
       " [3, 4, 6]]"
      ]
     },
     "execution_count": 9,
     "metadata": {},
     "output_type": "execute_result"
    }
   ],
   "source": [
    "#we list all possible triples out of [6], that do not intersect any of the two given edges in exactly one vertex\n",
    "L=[]\n",
    "for I in Combinations(range(1,7),3):\n",
    "    if len(inters(I,[1,2,3,4]))!=1 and len(inters(I,[3,4,5,6]))!=1:\n",
    "        L.append(I)\n",
    "len(L)\n",
    "L"
   ]
  },
  {
   "cell_type": "code",
   "execution_count": null,
   "metadata": {},
   "outputs": [],
   "source": []
  },
  {
   "cell_type": "code",
   "execution_count": 10,
   "metadata": {},
   "outputs": [],
   "source": [
    "#we define functions that resp.:\n",
    "\n",
    "#compute the intersection of two lists\n",
    "\n",
    "def inters(a,b):\n",
    "    return set.intersection(set(a),set(b))\n",
    "\n",
    "#check that the 3-tuples E\\v (collected in I) have to intersect \n",
    "\n",
    "def IntSet3(I):\n",
    "    OK=True;\n",
    "    for (i,t) in Combinations(I,2):\n",
    "        if len(inters(i,t))==0:\n",
    "            OK=False\n",
    "            break\n",
    "    return OK\n",
    "\n",
    "#count number of pairs in I of two triples that intersect in exactly one vertex\n",
    "\n",
    "def Count3(I):\n",
    "    number=0;\n",
    "    for (i,t) in Combinations(I,2):\n",
    "        if len(inters(i,t))==1:\n",
    "            number+=1;\n",
    "    return number\n",
    "\n",
    "#Count the number of 4-tuple-subsets of [6] that should be in E(H) given the collection I of 3-sets \n",
    "def Count4(I):\n",
    "    T=[]\n",
    "    for t in Combinations(range(1,7),4):\n",
    "        OK=True;\n",
    "        for i in I:\n",
    "            if len(inters(i,t))<2:\n",
    "                OK=False\n",
    "                break\n",
    "        if OK:\n",
    "            T.append(t)\n",
    "    return T\n",
    "            \n",
    "\n",
    "    "
   ]
  },
  {
   "cell_type": "code",
   "execution_count": null,
   "metadata": {},
   "outputs": [],
   "source": []
  },
  {
   "cell_type": "code",
   "execution_count": 11,
   "metadata": {},
   "outputs": [],
   "source": [
    "#finally, we check that the size is at least n, by comparing 6 (number of elements in [6]) \n",
    "#with the number of 4-tuples not associated with the vertices out of [6]\n",
    "\n",
    "dict={0:0, 1: 1, 2: 2, 3: 2, 4: 3, 5: 3, 6: 3, 7:4, 8:4, 9: 4, 10: 4, 11:5, 12:5, 13:5, 14:5,  15:5, 16:6}\n",
    "for k in range(0,12):\n",
    "    for I in Combinations(L,k):\n",
    "        if IntSet3(I):\n",
    "            if len(Count4(I))+dict[Count3(I)]<6:\n",
    "                print(I)\n",
    "            #print(I)"
   ]
  },
  {
   "cell_type": "code",
   "execution_count": null,
   "metadata": {},
   "outputs": [],
   "source": []
  },
  {
   "cell_type": "code",
   "execution_count": null,
   "metadata": {},
   "outputs": [],
   "source": []
  },
  {
   "cell_type": "code",
   "execution_count": null,
   "metadata": {},
   "outputs": [],
   "source": []
  },
  {
   "cell_type": "code",
   "execution_count": null,
   "metadata": {},
   "outputs": [],
   "source": []
  },
  {
   "cell_type": "code",
   "execution_count": null,
   "metadata": {},
   "outputs": [],
   "source": []
  },
  {
   "cell_type": "code",
   "execution_count": null,
   "metadata": {},
   "outputs": [],
   "source": []
  }
 ],
 "metadata": {
  "kernelspec": {
   "display_name": "SageMath 9.3",
   "language": "sage",
   "name": "sagemath"
  },
  "language_info": {
   "codemirror_mode": {
    "name": "ipython",
    "version": 3
   },
   "file_extension": ".py",
   "mimetype": "text/x-python",
   "name": "python",
   "nbconvert_exporter": "python",
   "pygments_lexer": "ipython3",
   "version": "3.7.10"
  }
 },
 "nbformat": 4,
 "nbformat_minor": 4
}
